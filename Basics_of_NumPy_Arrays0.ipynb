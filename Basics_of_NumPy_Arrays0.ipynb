{
  "nbformat": 4,
  "nbformat_minor": 0,
  "metadata": {
    "colab": {
      "provenance": [],
      "authorship_tag": "ABX9TyNtfaSm5FW6grNXArLg+ldL",
      "include_colab_link": true
    },
    "kernelspec": {
      "name": "python3",
      "display_name": "Python 3"
    },
    "language_info": {
      "name": "python"
    }
  },
  "cells": [
    {
      "cell_type": "markdown",
      "metadata": {
        "id": "view-in-github",
        "colab_type": "text"
      },
      "source": [
        "<a href=\"https://colab.research.google.com/github/Parvez-kamaly/NUMPY/blob/main/Basics_of_NumPy_Arrays0.ipynb\" target=\"_parent\"><img src=\"https://colab.research.google.com/assets/colab-badge.svg\" alt=\"Open In Colab\"/></a>"
      ]
    },
    {
      "cell_type": "code",
      "execution_count": null,
      "metadata": {
        "id": "dm_rfj9lv7zt"
      },
      "outputs": [],
      "source": [
        "import numpy as np"
      ]
    },
    {
      "cell_type": "markdown",
      "source": [
        "**1. One Dimensional Array:\n",
        "A one-dimensional array is a type of linear array.**"
      ],
      "metadata": {
        "id": "GXoAH742wUNU"
      }
    },
    {
      "cell_type": "markdown",
      "source": [
        "![1.ONE DIMENSION ARRAY.png](data:image/png;base64,iVBORw0KGgoAAAANSUhEUgAAASwAAAAqCAYAAAAJU2bcAAAJXElEQVR4nO2db2gUVxeHn5ndyS6bxgjZ0iIsgVARqYVtiaUozQclrdIU2g+hNlCLqESMIFW01IVaioJ+CIiithhpA61psG00SMQ/SFQqaKJUVJKCxaxoILbSaLKyZnbmvh/CHXdreCnvm51xb+/zKTOzYc/Zc+Z3z/0zdwxAoNFoNCWAGbQBGo1G808J5x9UVFQEZYcvZLNZbNsGIBqNYllWwBYVD9d1yWQyAJimSXl5ecAWFZdMJoPrugCUl5djmuq2xbZtk81mAbAsi2g0GrBFxWVsbKzgWADCsiyhOs3NzUL6e/jw4aDNKSrpdNrzNZlMBm1O0Ukmk56/6XQ6aHOKyuHDhz1fm5ubgzan6FiW5flbUGE5joMQAsMwii+bPvL48WMikYhXXcFkteU4DrlcjnA4/F/+u7SQ8Xv06JF3znVdHMfxfgeVkD7J6grg0aNHSuayzFVZXcFktaVqbKeKX8GdGgqFlAsyTPoVCoUK/DJN0/M3FAoFaN30IuP39y6R/A1U8hWY0qf82KqUyzJX82NrGIaysZ0qfup29DUajXJowdJoNCWDFiyNRlMyaMHSaDQlgxYsjUZTMmjB0mg0JYMWLI1GUzJowdJoNCWDFiyNRlMyaMHSaDQlgxYsjUZTMmjB0mg0JUNg2xQ4joPjOEo+tJmP9FNiWZZSD+Tm47ouuVzOOw6Hw0rvSyXJ5XK4rqu0v9LHfILw13fBEkKQy+WwLEtpoQKmFGQh1NyR2nVdTNOkrKys4LxqOyb8HSlUKiOEeGZ89NUK13URQmBZFjdu3ODnn39m6dKl1NbWegmvCq7rEgqFuHr1KqdPn8Z1XSYmJkilUkGbNu1IYU6n0/zwww8YhkEsFqOxsZEXXnhBudhKhBCYpsmpU6fo7++nqamJ6upqpURaxu7QoUOk02mv0MjlcixbtoxEIuGrv74JlgwuwI8//sjOnTvp7+/HNE1qa2vJ5XJPtc6liqyiLl++TEtLCxcvXvSuDQ0NceDAgaBMm3ZkN2F4eJjPPvuMjo4O79rAwACff/45zz//vFI3cT43b95k9erVpNNpksmkUoIlYzs6Osq2bdsYGBgouD5nzhwSiQSO4/hWgfnS7Mkb+N69e6xdu5bGxkb6+/uprKz09hpXIcCSXC6HaZqkUikuXrzIhg0b2LVrF9XV1bS1tT0V+FJFCOFVkl9//TUdHR28++67tLa2UldXx8GDBzl37hymaRaMbamA4zi4rktzczPpdJp4PK7cjp+yurp69Sr379+nqamJn376iaNHj7J7926SySSAr0M7vsiirK6uXbvG/v37aW1tZWBggLa2NuW6CrJ1nZiY4MSJEzz33HNs376daDTK8PAwra2t/Pbbb8ydOzdoU6cFmayLFy8mHo/z4YcfEo/HGRoa4ty5c1RVVQFqNUhSpD/55BPOnDnD+++/z7Fjx4I2q2jcvn2b+/fvMzo6ysjICOPj42zatAnA9+6+L4Ilk3Xu3LmcPHmS+vp6du/eDaCcYMGTm7i9vZ2qqips2yYajXLt2jUqKyt59dVXA7ZwepBxFUJQV1dHXV0dQ0NDrFu3jsHBQY4ePcqiRYuUG5g2TZPOzk527dpFKpVixowZdHd3k8vlsG1bmckk2dW7fPky5eXl9PT00NPTA0BPTw/ffPMN1dXVvoqWL98iE3vWrFnU19fjOA7j4+N+fLXvGIaBYRiEw2GWL1/OO++8Q0VFBevWreP48eO0t7dTXV0dtJnTSn71VFZWxptvvsnChQvp6uri119/xTCMgqUdpU5/fz/r169ny5YtbNu2jYmJCcLhMLNmzVLm1XGypyCE4PTp0zx8+JDNmzfz3XffsWzZMnp7e+nq6sJ1Xe9zfuD7LKHq61UkQghs20YIwcqVK/n+++/Zt28fDQ0N3qxaqSOTemxsjD179nDnzh0+/fRTWlpauHDhAgsXLiQWi7F3714vqUu9a+g4Dl999RV//PEH169fZ8WKFVy5cgXbttm8eTMffPABy5cvL/mZUcMwvDWDXV1dDA8P88YbbxCJRHjxxRc5ceIEfX19ZDIZZsyYoaZgycrj34Act2tsbOTYsWP09fVRW1sL+DtIWUxkkpaVlXHjxg0OHTrEa6+9xqpVq7h16xYzZ85kbGzMez2VCmvQHMehr68P13Xp7u4uuHb8+HGEEHz88cfexEupIgX37t27tLe3Y5omr7/+OjD5YlPbtolEIr7ncmDqEQ6HiUajyty8+cgbtKmpiSNHjhCPx9m7dy8PHjzANE22bt3KK6+8ErSZ/zdy9i8SidDQ0EBnZyc7duzg5MmTXLlyhdHRUebNm+et21GhsbIsi7a2Nu7du0coFMJ1XTo6Ojhy5AhffPEFS5YseaYWWv6vGIaBbdtUVlbS29vLL7/8wvnz54nH4wwODjI+Ps57771HLBbztZoM7Ff966+/yGazPHz4EFBnBbgM3qVLl+js7ATgzz//5Ntvv/U+89FHHykhWIAnRkuXLuXLL78klUrx+++/A5BKpVixYkXJd4/yMQyD+fPnF5w7e/Ys4+PjLFiwgJdfflkJf+X7DqPRKB0dHbz11lv09vZ61/fs2cOSJUu8z/qF711CyZo1a3j77bd56aWXAJQZrJSD7jU1NVy4cMF727R8kasQgnnz5gVs5fQhE3vmzJls3LiR+vp6JiYmKCsrI5lMYlmWEmNX+cgnNmCyoW1ubqahoYE5c+YoIVYS0zQRQpBIJOju7mZkZMTzbcGCBYD/j14FVmElEgkSiYR3rEpCSz/i8TjxeDxga/xBCnEkEnmq+lBNrODppTg1NTXU1NQEZE1xkd3e2bNnM3v27IJrQcQ2MMESQngOq5bQ8MS/qVDRZyla+T6r6OdUqJ7Lpmk+tVNDUL4GJliqBleiun9T8W/0Gf4dfj8r3dxnwwqNRqP5B2jB0mg0JYMWLI1GUzIUjGE5jqPkrI7cpjh/QNh1Xe+8Sv7K+P19kFT6qtIzffD0FtTwJLaq5bLM1fzYCiGUje1U8SsQLBVXnQPEYjGgcK2XXGWvus8wOWAaCoUKzqmC9Cl/UDgWiykZV+lTNBr1zskdQFWM7VQYgFd2VFRUBGhK8clms95Czmg0qsxi1alwXZdMJgNM3sxyo0RVyWQyXuVRXl7+zMxqFQPbtslms8CkYOULmIqMjY15fxcIlkaj0TzLqNsMaTQa5fgP/V99fmrnKjUAAAAASUVORK5CYII=)"
      ],
      "metadata": {
        "id": "-f3vgNfYwaUk"
      }
    },
    {
      "cell_type": "code",
      "source": [
        "a=[1,2,3,4]\n",
        "arr=np.array(a)\n",
        "print('list of python',a)\n",
        "print('Numpy array in python',arr)"
      ],
      "metadata": {
        "colab": {
          "base_uri": "https://localhost:8080/"
        },
        "id": "Sfpm-gMxwQGN",
        "outputId": "269e8bbc-b613-49c6-f3d6-ea852ed53130"
      },
      "execution_count": null,
      "outputs": [
        {
          "output_type": "stream",
          "name": "stdout",
          "text": [
            "list of python [1, 2, 3, 4]\n",
            "Numpy array in python [1 2 3 4]\n"
          ]
        }
      ]
    },
    {
      "cell_type": "markdown",
      "source": [
        "**2. Multi-Dimensional Array:\n",
        "A Multi-Dimensional Array is an array that can store data in more than one dimension such as rows and columns. In simple terms it is a array of arrays.**"
      ],
      "metadata": {
        "id": "8nFj8VgkxIcF"
      }
    },
    {
      "cell_type": "code",
      "source": [
        "list_1 = [1, 2, 3, 4]\n",
        "list_2 = [5, 6, 7, 8]\n",
        "list_3 = [9, 10, 11, 12]\n",
        "\n",
        "sample_array=np.array([list_1,list_2,list_3])\n",
        "print('numpy multidimensional array in python :',sample_array)"
      ],
      "metadata": {
        "colab": {
          "base_uri": "https://localhost:8080/"
        },
        "id": "R4kUWUrBxDsU",
        "outputId": "43a74326-b8ab-498a-ca5f-ef5804165e4c"
      },
      "execution_count": null,
      "outputs": [
        {
          "output_type": "stream",
          "name": "stdout",
          "text": [
            "numpy multidimensional array in python : [[ 1  2  3  4]\n",
            " [ 5  6  7  8]\n",
            " [ 9 10 11 12]]\n"
          ]
        }
      ]
    },
    {
      "cell_type": "markdown",
      "source": [
        "**Different Ways to Create Numpy Arrays in Python**"
      ],
      "metadata": {
        "id": "hTsShHtFynZM"
      }
    },
    {
      "cell_type": "code",
      "source": [
        "#create numpy arrays using lists or tuple\n",
        "import numpy as np\n",
        "my_list=[1,2,3,4,5]\n",
        "numpy_array=np.array(my_list)\n",
        "print('simple numpy array: ',numpy_array)"
      ],
      "metadata": {
        "colab": {
          "base_uri": "https://localhost:8080/"
        },
        "id": "-y5dBZTrx70m",
        "outputId": "4a60c7b6-00b3-4dcf-a6ba-ab8b2e840299"
      },
      "execution_count": null,
      "outputs": [
        {
          "output_type": "stream",
          "name": "stdout",
          "text": [
            "simple numpy array:  [1 2 3 4 5]\n"
          ]
        }
      ]
    },
    {
      "cell_type": "code",
      "source": [
        "#initialize a python Numpy Array Using Special Functions\n",
        "zeros_arr=np.zeros((2,3))\n",
        "ones_arr=np.ones((3,3))\n",
        "constant_arr=np.full((2,2),7)\n",
        "print('zeros array:',zeros_arr)\n",
        "print('Ones array:',ones_arr)\n",
        "print('constant array: ',constant_arr)"
      ],
      "metadata": {
        "colab": {
          "base_uri": "https://localhost:8080/"
        },
        "id": "Lz9N92ouzV2u",
        "outputId": "01282c2e-82e5-4709-f2a8-f1696c3bb4b0"
      },
      "execution_count": null,
      "outputs": [
        {
          "output_type": "stream",
          "name": "stdout",
          "text": [
            "zeros array: [[0. 0. 0.]\n",
            " [0. 0. 0.]]\n",
            "Ones array: [[1. 1. 1.]\n",
            " [1. 1. 1.]\n",
            " [1. 1. 1.]]\n",
            "constant array:  [[7 7]\n",
            " [7 7]]\n"
          ]
        }
      ]
    },
    {
      "cell_type": "code",
      "source": [
        "range_array=np.arange(0,10,2)   ####start,stop,step\n",
        "print(range_array)"
      ],
      "metadata": {
        "colab": {
          "base_uri": "https://localhost:8080/"
        },
        "id": "L-pPjU_w0B72",
        "outputId": "602bc09b-a776-454c-adbb-05e5bec8ae7e"
      },
      "execution_count": null,
      "outputs": [
        {
          "output_type": "stream",
          "name": "stdout",
          "text": [
            "[0 2 4 6 8]\n"
          ]
        }
      ]
    },
    {
      "cell_type": "code",
      "source": [
        "range_array=np.arange(1,50,5)\n",
        "print(range_array)"
      ],
      "metadata": {
        "colab": {
          "base_uri": "https://localhost:8080/"
        },
        "id": "QdO1lMxi0T5F",
        "outputId": "95ea60f0-08f4-463f-b9ee-f96716001a2c"
      },
      "execution_count": null,
      "outputs": [
        {
          "output_type": "stream",
          "name": "stdout",
          "text": [
            "[ 1  6 11 16 21 26 31 36 41 46]\n"
          ]
        }
      ]
    },
    {
      "cell_type": "code",
      "source": [
        "linspace_array=np.linspace(0,1,5)  #start,stop,num\n",
        "print(linspace_array)"
      ],
      "metadata": {
        "colab": {
          "base_uri": "https://localhost:8080/"
        },
        "id": "anDCoqEM0YLN",
        "outputId": "2a52a9a3-5c2c-4191-d2c7-a77f43792084"
      },
      "execution_count": null,
      "outputs": [
        {
          "output_type": "stream",
          "name": "stdout",
          "text": [
            "[0.   0.25 0.5  0.75 1.  ]\n"
          ]
        }
      ]
    },
    {
      "cell_type": "markdown",
      "source": [
        "**Create Python Numpy Arrays Using Random Number Generation**"
      ],
      "metadata": {
        "id": "2Lw4g71S1ZD1"
      }
    },
    {
      "cell_type": "code",
      "source": [
        "##np.random.rand()-creates an array of specified shape and fills it with random values sampled from a uniform distribuition over (0 to 1)\n",
        "\n",
        "random_array=np.random.rand(2,3)\n",
        "print('Random array',random_array)\n"
      ],
      "metadata": {
        "colab": {
          "base_uri": "https://localhost:8080/"
        },
        "id": "dVRdxh9e1Lat",
        "outputId": "bee74402-27a3-4104-b87f-db01808a579d"
      },
      "execution_count": null,
      "outputs": [
        {
          "output_type": "stream",
          "name": "stdout",
          "text": [
            "Random array [[0.0333754  0.51797496 0.0936225 ]\n",
            " [0.62666832 0.36853541 0.85725827]]\n"
          ]
        }
      ]
    },
    {
      "cell_type": "code",
      "source": [
        "##np.random.randn()-creates an array of specified shape and fills it with random values sampled from a standard normal distribuiton\n",
        "\n",
        "normal_array=np.random.randn(3,3)\n",
        "print('Normal array: ',normal_array)"
      ],
      "metadata": {
        "colab": {
          "base_uri": "https://localhost:8080/"
        },
        "id": "1cxTLKgg2XVH",
        "outputId": "6298255f-c0d0-4e42-cf3a-9bf3df5568cc"
      },
      "execution_count": null,
      "outputs": [
        {
          "output_type": "stream",
          "name": "stdout",
          "text": [
            "Normal array:  [[ 0.52230275 -0.39259418  0.37409482]\n",
            " [ 0.60170302 -0.28140963 -0.55616334]\n",
            " [ 0.98742254  1.67798781 -1.33108979]]\n"
          ]
        }
      ]
    },
    {
      "cell_type": "code",
      "source": [
        "##np.random.randint()-creates an array of specified shape and fills it with random integers within a given range\n",
        "\n",
        "randint_array=np.random.randint(1,10,size=(3,3))\n",
        "print('randint array',randint_array)"
      ],
      "metadata": {
        "colab": {
          "base_uri": "https://localhost:8080/"
        },
        "id": "oSRtdDRl3Bwv",
        "outputId": "c16faa4d-efd0-4457-aade-93b9d9e6a75f"
      },
      "execution_count": null,
      "outputs": [
        {
          "output_type": "stream",
          "name": "stdout",
          "text": [
            "randint array [[5 3 6]\n",
            " [5 5 3]\n",
            " [1 5 7]]\n"
          ]
        }
      ]
    },
    {
      "cell_type": "markdown",
      "source": [
        "**Create Python Numpy Arrays Using Matrix Creation Routines**"
      ],
      "metadata": {
        "id": "R-e9Zs3K4oVu"
      }
    },
    {
      "cell_type": "code",
      "source": [
        "##np.eye()-creates an identity matrics of specified size\n",
        "identity_mat=np.eye(3,3)\n",
        "print(identity_mat)"
      ],
      "metadata": {
        "colab": {
          "base_uri": "https://localhost:8080/"
        },
        "id": "ceKtPjTR3qS_",
        "outputId": "8d8a523d-7285-4c18-dc72-8762cf290926"
      },
      "execution_count": null,
      "outputs": [
        {
          "output_type": "stream",
          "name": "stdout",
          "text": [
            "[[1. 0. 0.]\n",
            " [0. 1. 0.]\n",
            " [0. 0. 1.]]\n"
          ]
        }
      ]
    },
    {
      "cell_type": "code",
      "source": [
        "##np.diag()-constructs a diagonal array\n",
        "diagonal_arr=np.diag([1,2,3])\n",
        "print(diagonal_arr)"
      ],
      "metadata": {
        "colab": {
          "base_uri": "https://localhost:8080/"
        },
        "id": "PNr4YNzO5JOn",
        "outputId": "e70a5d8b-3e5b-4ad2-a107-2afeebc3c344"
      },
      "execution_count": null,
      "outputs": [
        {
          "output_type": "stream",
          "name": "stdout",
          "text": [
            "[[1 0 0]\n",
            " [0 2 0]\n",
            " [0 0 3]]\n"
          ]
        }
      ]
    },
    {
      "cell_type": "markdown",
      "source": [
        "**How to access different rows of a multidimensional NumPy array?**"
      ],
      "metadata": {
        "id": "LDX0HlDj6b-e"
      }
    },
    {
      "cell_type": "code",
      "source": [
        "import numpy as np\n",
        "#create an 2d numpy array\n",
        "arr=np.array([[10,20,30],[40,5,66],[70,88,94]])\n",
        "print('given array ',arr)\n",
        "\n",
        "#access the first and last rows of array\n",
        "res=arr[[0,2]]\n",
        "print('Access row ',res)"
      ],
      "metadata": {
        "colab": {
          "base_uri": "https://localhost:8080/"
        },
        "id": "aS4YG9LV58xA",
        "outputId": "09eb2953-7066-43d0-8cf3-c897f0dac1f6"
      },
      "execution_count": null,
      "outputs": [
        {
          "output_type": "stream",
          "name": "stdout",
          "text": [
            "given array  [[10 20 30]\n",
            " [40  5 66]\n",
            " [70 88 94]]\n",
            "Access row  [[10 20 30]\n",
            " [70 88 94]]\n"
          ]
        }
      ]
    },
    {
      "cell_type": "code",
      "source": [
        "res1=arr[0:2,[0,2]]\n",
        "print(res1)"
      ],
      "metadata": {
        "colab": {
          "base_uri": "https://localhost:8080/"
        },
        "id": "oAj-x67k7-zn",
        "outputId": "f6409377-bd3f-44b6-d5df-3dd815a6a26b"
      },
      "execution_count": null,
      "outputs": [
        {
          "output_type": "stream",
          "name": "stdout",
          "text": [
            "[[10 30]\n",
            " [40 66]]\n"
          ]
        }
      ]
    },
    {
      "cell_type": "markdown",
      "source": [
        "**Reshape NumPy Array**"
      ],
      "metadata": {
        "id": "XwRIdyW-9t8w"
      }
    },
    {
      "cell_type": "code",
      "source": [
        "#reshape 1D to 2D\n",
        "#1-D arry\n",
        "arr=np.array([1,2,3,4,5,6])\n",
        "print('Orginal array: ',arr)\n",
        "\n",
        "#Reshape into 2-D array (2 rows,3 columns)\n",
        "reshaped_arr=arr.reshape(2,3)\n",
        "print('Reshaped array: ',reshaped_arr)"
      ],
      "metadata": {
        "colab": {
          "base_uri": "https://localhost:8080/"
        },
        "id": "G6XtKAt58UrW",
        "outputId": "cba5df0a-dbb7-4565-e557-a92bb3441417"
      },
      "execution_count": null,
      "outputs": [
        {
          "output_type": "stream",
          "name": "stdout",
          "text": [
            "Orginal array:  [1 2 3 4 5 6]\n",
            "Reshaped array:  [[1 2 3]\n",
            " [4 5 6]]\n"
          ]
        }
      ]
    },
    {
      "cell_type": "code",
      "source": [
        "#reshpae 2-D to 1-D array\n",
        "#2-D array\n",
        "arr=np.array([[1,2,3],[4,5,6],[7,8,9]])\n",
        "print('Orginal array: ',arr)\n",
        "\n",
        "#reshape into 2-D to 1-D array\n",
        "reshaped=arr.reshape(-1)  #-1 means calculate by its own\n",
        "print('Reshaped array',reshaped)"
      ],
      "metadata": {
        "colab": {
          "base_uri": "https://localhost:8080/"
        },
        "id": "uYRVLVqQ-bZI",
        "outputId": "f1c14a70-37a4-4eb0-caa1-8cb83d0b4d4a"
      },
      "execution_count": null,
      "outputs": [
        {
          "output_type": "stream",
          "name": "stdout",
          "text": [
            "Orginal array:  [[1 2 3]\n",
            " [4 5 6]\n",
            " [7 8 9]]\n",
            "Reshaped array [1 2 3 4 5 6 7 8 9]\n"
          ]
        }
      ]
    },
    {
      "cell_type": "code",
      "source": [
        "flat=arr.flatten()    #always create a new copy\n",
        "print(flat)"
      ],
      "metadata": {
        "colab": {
          "base_uri": "https://localhost:8080/"
        },
        "id": "DbPikb2l_sUQ",
        "outputId": "449b308e-2bb1-42fe-9480-c866f5419d9b"
      },
      "execution_count": null,
      "outputs": [
        {
          "output_type": "stream",
          "name": "stdout",
          "text": [
            "[1 2 3 4 5 6 7 8 9]\n"
          ]
        }
      ]
    },
    {
      "cell_type": "code",
      "source": [
        "flat=arr.ravel()    #share orginal data (memory efficient)\n",
        "print(flat)"
      ],
      "metadata": {
        "colab": {
          "base_uri": "https://localhost:8080/"
        },
        "id": "lPrgOtu9_6J5",
        "outputId": "a3340ea2-3e09-48c0-ff4b-f21c5b75cccd"
      },
      "execution_count": null,
      "outputs": [
        {
          "output_type": "stream",
          "name": "stdout",
          "text": [
            "[1 2 3 4 5 6 7 8 9]\n"
          ]
        }
      ]
    },
    {
      "cell_type": "markdown",
      "source": [
        "**Numpy numpy.resize()**"
      ],
      "metadata": {
        "id": "V2FKo30aARBo"
      }
    },
    {
      "cell_type": "code",
      "source": [
        "import numpy as np\n",
        "arr=np.array([1,2,3,4,5,6])\n",
        "arr.resize(2,3)\n",
        "print(arr)"
      ],
      "metadata": {
        "colab": {
          "base_uri": "https://localhost:8080/"
        },
        "id": "6B9bqKtG_-6Y",
        "outputId": "8c53a6df-54dc-41a0-8933-3ff47007facd"
      },
      "execution_count": null,
      "outputs": [
        {
          "output_type": "stream",
          "name": "stdout",
          "text": [
            "[[1 2 3]\n",
            " [4 5 6]]\n"
          ]
        }
      ]
    },
    {
      "cell_type": "code",
      "source": [
        "arr1=np.array([[1,2,3],[4,5,6]])\n",
        "arr1.resize(3,2)\n",
        "print(arr1)"
      ],
      "metadata": {
        "colab": {
          "base_uri": "https://localhost:8080/"
        },
        "id": "JqfXzCHFAgfo",
        "outputId": "a917d7fd-67a5-4d3d-f2a5-2380a9c0741d"
      },
      "execution_count": null,
      "outputs": [
        {
          "output_type": "stream",
          "name": "stdout",
          "text": [
            "[[1 2]\n",
            " [3 4]\n",
            " [5 6]]\n"
          ]
        }
      ]
    },
    {
      "cell_type": "markdown",
      "source": [
        "**numpy.stack() in Python**"
      ],
      "metadata": {
        "id": "Ilf0VfbVZKiS"
      }
    },
    {
      "cell_type": "code",
      "source": [
        "import numpy as np\n",
        "#stacking two 1D arrays\n",
        "#input array\n",
        "a=np.array([1,2,3])\n",
        "b=np.array([4,5,6])\n",
        "\n",
        "#stacking two 1 D arrays\n",
        "c=np.stack((a,b))\n",
        "print(c)"
      ],
      "metadata": {
        "colab": {
          "base_uri": "https://localhost:8080/"
        },
        "id": "pRA9ONqqBKCR",
        "outputId": "fe0e6b0e-658f-4a6d-f261-fff01725d42a"
      },
      "execution_count": null,
      "outputs": [
        {
          "output_type": "stream",
          "name": "stdout",
          "text": [
            "[[1 2 3]\n",
            " [4 5 6]]\n"
          ]
        }
      ]
    },
    {
      "cell_type": "code",
      "source": [
        "#stacking 2 1D arrays columns wise\n",
        "d=np.stack((a,b),axis=1)\n",
        "print(d)"
      ],
      "metadata": {
        "colab": {
          "base_uri": "https://localhost:8080/"
        },
        "id": "RGKB6U-gZc-i",
        "outputId": "1b82c67c-470b-4b6e-f66a-5cc88f55b4c0"
      },
      "execution_count": null,
      "outputs": [
        {
          "output_type": "stream",
          "name": "stdout",
          "text": [
            "[[1 4]\n",
            " [2 5]\n",
            " [3 6]]\n"
          ]
        }
      ]
    },
    {
      "cell_type": "code",
      "source": [
        "#stacking 2D arrays\n",
        "x=np.array([[1,2,3],[4,5,6]])\n",
        "y=np.array([[7,8,9],[4,5,6]])\n",
        "\n",
        "c=np.stack((x,y),axis=0)\n",
        "print(c)"
      ],
      "metadata": {
        "colab": {
          "base_uri": "https://localhost:8080/"
        },
        "id": "u42u6bo2Z1bq",
        "outputId": "5c6f136c-3721-431d-c8b5-136e427aa234"
      },
      "execution_count": null,
      "outputs": [
        {
          "output_type": "stream",
          "name": "stdout",
          "text": [
            "[[[1 2 3]\n",
            "  [4 5 6]]\n",
            "\n",
            " [[7 8 9]\n",
            "  [4 5 6]]]\n"
          ]
        }
      ]
    },
    {
      "cell_type": "code",
      "source": [
        "d=np.stack((x,y),axis=1)\n",
        "print(d)"
      ],
      "metadata": {
        "colab": {
          "base_uri": "https://localhost:8080/"
        },
        "id": "0W_mHjOlaTvK",
        "outputId": "71b448c5-3ae3-4867-a609-674512de1cd2"
      },
      "execution_count": null,
      "outputs": [
        {
          "output_type": "stream",
          "name": "stdout",
          "text": [
            "[[[1 2 3]\n",
            "  [7 8 9]]\n",
            "\n",
            " [[4 5 6]\n",
            "  [4 5 6]]]\n"
          ]
        }
      ]
    },
    {
      "cell_type": "code",
      "source": [
        "#split numpy array\n",
        "arr=np.array([1,2,3,4,5,6])\n",
        "array=np.array_split(arr,3)\n",
        "print(array)"
      ],
      "metadata": {
        "colab": {
          "base_uri": "https://localhost:8080/"
        },
        "id": "wPiS8wIlaXd6",
        "outputId": "92abc241-1bc5-4a19-a7c1-bb82c2e2fb69"
      },
      "execution_count": null,
      "outputs": [
        {
          "output_type": "stream",
          "name": "stdout",
          "text": [
            "[array([1, 2]), array([3, 4]), array([5, 6])]\n"
          ]
        }
      ]
    },
    {
      "cell_type": "code",
      "source": [
        "arr1=np.array([[1,2,3],[4,5,6],[7,8,9]])\n",
        "array=np.array_split(arr1,3)\n",
        "print(array)"
      ],
      "metadata": {
        "colab": {
          "base_uri": "https://localhost:8080/"
        },
        "id": "-7GrRzXvbLlZ",
        "outputId": "de879c65-4080-4914-fe08-178df06b7e37"
      },
      "execution_count": null,
      "outputs": [
        {
          "output_type": "stream",
          "name": "stdout",
          "text": [
            "[array([[1, 2, 3]]), array([[4, 5, 6]]), array([[7, 8, 9]])]\n"
          ]
        }
      ]
    },
    {
      "cell_type": "code",
      "source": [
        "arr=np.arange(6)\n",
        "a=np.array_split(arr,3)\n",
        "print(a)"
      ],
      "metadata": {
        "colab": {
          "base_uri": "https://localhost:8080/"
        },
        "id": "bPxtMkabbdGK",
        "outputId": "5d777b54-913b-482d-fa43-48961b694421"
      },
      "execution_count": null,
      "outputs": [
        {
          "output_type": "stream",
          "name": "stdout",
          "text": [
            "[array([0, 1]), array([2, 3]), array([4, 5])]\n"
          ]
        }
      ]
    },
    {
      "cell_type": "markdown",
      "source": [
        "**NumPy Array Broadcasting**"
      ],
      "metadata": {
        "id": "fr3e5FcVb7kD"
      }
    },
    {
      "cell_type": "code",
      "source": [
        "import numpy as np\n",
        "arr=np.array([[1,2,3],[4,5,6]])\n",
        "scaler=10\n",
        "result=arr+scaler\n",
        "print(result)"
      ],
      "metadata": {
        "colab": {
          "base_uri": "https://localhost:8080/"
        },
        "id": "pbIj3TBMbo7B",
        "outputId": "838ef58a-3821-432f-bb72-9562d3021add"
      },
      "execution_count": null,
      "outputs": [
        {
          "output_type": "stream",
          "name": "stdout",
          "text": [
            "[[11 12 13]\n",
            " [14 15 16]]\n"
          ]
        }
      ]
    },
    {
      "cell_type": "code",
      "source": [
        "arr=np.array([1,2,3])\n",
        "res=arr+1\n",
        "print(res)"
      ],
      "metadata": {
        "colab": {
          "base_uri": "https://localhost:8080/"
        },
        "id": "bb7qlBzycn8C",
        "outputId": "23f5fa94-e974-4623-fa46-cfb03fb60998"
      },
      "execution_count": null,
      "outputs": [
        {
          "output_type": "stream",
          "name": "stdout",
          "text": [
            "[2 3 4]\n"
          ]
        }
      ]
    },
    {
      "cell_type": "code",
      "source": [
        "##Broadcasting a 1D Array to a 2D Array\n",
        "a1=np.array([2,4,6])\n",
        "a2=np.array([[1,3,5],[7,9,11]])\n",
        "\n",
        "result=a1+a2\n",
        "print(result)"
      ],
      "metadata": {
        "colab": {
          "base_uri": "https://localhost:8080/"
        },
        "id": "1vxEigyFcz7C",
        "outputId": "f27c23a2-591f-4a96-e36f-3933e865cf62"
      },
      "execution_count": null,
      "outputs": [
        {
          "output_type": "stream",
          "name": "stdout",
          "text": [
            "[[ 3  7 11]\n",
            " [ 9 13 17]]\n"
          ]
        }
      ]
    },
    {
      "cell_type": "code",
      "source": [
        "matrix=np.array([[1,2],[3,4]])\n",
        "vector=np.array([10,20])\n",
        "result=matrix+vector\n",
        "print(result)"
      ],
      "metadata": {
        "colab": {
          "base_uri": "https://localhost:8080/"
        },
        "id": "M3SCbyx3dCXJ",
        "outputId": "c43fd0cc-85ec-4931-fa34-cdec356a3fa7"
      },
      "execution_count": null,
      "outputs": [
        {
          "output_type": "stream",
          "name": "stdout",
          "text": [
            "[[11 22]\n",
            " [13 24]]\n"
          ]
        }
      ]
    },
    {
      "cell_type": "markdown",
      "source": [
        "**Centering Data**"
      ],
      "metadata": {
        "id": "hDMNmTEYeGMc"
      }
    },
    {
      "cell_type": "code",
      "source": [
        "import numpy as np\n",
        "data=np.array([[10, 20],[15, 25],[20, 30]])\n",
        "\n",
        "feature_mean=np.mean(data,axis=0)\n",
        "print(feature_mean)"
      ],
      "metadata": {
        "colab": {
          "base_uri": "https://localhost:8080/"
        },
        "id": "Ff-xT1YedZgC",
        "outputId": "f1eff8d5-1275-44c7-8c83-cd93c0eb4bb6"
      },
      "execution_count": null,
      "outputs": [
        {
          "output_type": "stream",
          "name": "stdout",
          "text": [
            "[15. 25.]\n"
          ]
        }
      ]
    },
    {
      "cell_type": "code",
      "source": [
        "centred_data=data-feature_mean\n",
        "print(centred_data)"
      ],
      "metadata": {
        "colab": {
          "base_uri": "https://localhost:8080/"
        },
        "id": "Ih8Pfp7oefX7",
        "outputId": "a93124ba-4949-4b15-e16a-7e604ed91c28"
      },
      "execution_count": null,
      "outputs": [
        {
          "output_type": "stream",
          "name": "stdout",
          "text": [
            "[[-5. -5.]\n",
            " [ 0.  0.]\n",
            " [ 5.  5.]]\n"
          ]
        }
      ]
    },
    {
      "cell_type": "code",
      "source": [],
      "metadata": {
        "id": "U8RxvrA1etS7"
      },
      "execution_count": null,
      "outputs": []
    }
  ]
}