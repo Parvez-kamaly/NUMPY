{
  "nbformat": 4,
  "nbformat_minor": 0,
  "metadata": {
    "colab": {
      "provenance": [],
      "authorship_tag": "ABX9TyO2vILEwr/eaeG+kNLMXKpv",
      "include_colab_link": true
    },
    "kernelspec": {
      "name": "python3",
      "display_name": "Python 3"
    },
    "language_info": {
      "name": "python"
    }
  },
  "cells": [
    {
      "cell_type": "markdown",
      "metadata": {
        "id": "view-in-github",
        "colab_type": "text"
      },
      "source": [
        "<a href=\"https://colab.research.google.com/github/Parvez-kamaly/NUMPY/blob/main/NumPy_Introduction().ipynb\" target=\"_parent\"><img src=\"https://colab.research.google.com/assets/colab-badge.svg\" alt=\"Open In Colab\"/></a>"
      ]
    },
    {
      "cell_type": "markdown",
      "source": [
        "# Creating NumPy Arrays"
      ],
      "metadata": {
        "id": "OYfScR9xPllI"
      }
    },
    {
      "cell_type": "code",
      "execution_count": null,
      "metadata": {
        "id": "EpucQqRmPTGf"
      },
      "outputs": [],
      "source": [
        "import numpy as np"
      ]
    },
    {
      "cell_type": "code",
      "source": [
        "#create 1D array\n",
        "x=np.array([1,2,3])\n",
        "#create 2D array\n",
        "y=np.array([[1,2],[2,3]])\n",
        "#create 3D array\n",
        "z=np.array([[1,2],[2,3],[4,5]])\n",
        "\n",
        "print('1D ARRAY:-',x)\n",
        "\n",
        "print('2D ARRAY:-',y)\n",
        "\n",
        "print('3D ARRAY:- ',z)"
      ],
      "metadata": {
        "colab": {
          "base_uri": "https://localhost:8080/"
        },
        "id": "CLYAi0kMP9vw",
        "outputId": "07652fe0-7e31-4aea-d20c-8d3fc47cbeec"
      },
      "execution_count": null,
      "outputs": [
        {
          "output_type": "stream",
          "name": "stdout",
          "text": [
            "1D ARRAY:- [1 2 3]\n",
            "2D ARRAY:- [[1 2]\n",
            " [2 3]]\n",
            "3D ARRAY:-  [[1 2]\n",
            " [2 3]\n",
            " [4 5]]\n"
          ]
        }
      ]
    },
    {
      "cell_type": "code",
      "source": [
        "a1_zeros=np.zeros((3,3))\n",
        "print(a1_zeros)"
      ],
      "metadata": {
        "colab": {
          "base_uri": "https://localhost:8080/"
        },
        "id": "75PMucxMQnNx",
        "outputId": "6292a45c-23ce-438b-ed3b-67213b8cafb4"
      },
      "execution_count": null,
      "outputs": [
        {
          "output_type": "stream",
          "name": "stdout",
          "text": [
            "[[0. 0. 0.]\n",
            " [0. 0. 0.]\n",
            " [0. 0. 0.]]\n"
          ]
        }
      ]
    },
    {
      "cell_type": "code",
      "source": [
        "a1_ones=np.ones((4,3))\n",
        "print(a1_ones)"
      ],
      "metadata": {
        "colab": {
          "base_uri": "https://localhost:8080/"
        },
        "id": "PIQMDiE8Q39x",
        "outputId": "ad6900cf-ba3f-4a6e-c1bb-29b149111b6b"
      },
      "execution_count": null,
      "outputs": [
        {
          "output_type": "stream",
          "name": "stdout",
          "text": [
            "[[1. 1. 1.]\n",
            " [1. 1. 1.]\n",
            " [1. 1. 1.]\n",
            " [1. 1. 1.]]\n"
          ]
        }
      ]
    },
    {
      "cell_type": "code",
      "source": [
        "a3_range=np.arange(0,10,2)\n",
        "print(a3_range)"
      ],
      "metadata": {
        "colab": {
          "base_uri": "https://localhost:8080/"
        },
        "id": "mnSmoFYBRCof",
        "outputId": "1519457f-9f79-40ea-852b-8673ccf829e2"
      },
      "execution_count": null,
      "outputs": [
        {
          "output_type": "stream",
          "name": "stdout",
          "text": [
            "[0 2 4 6 8]\n"
          ]
        }
      ]
    },
    {
      "cell_type": "markdown",
      "source": [
        "**NumPy Array Indexing**"
      ],
      "metadata": {
        "id": "O4mJNYpiRpIm"
      }
    },
    {
      "cell_type": "code",
      "source": [
        "#create 1D array\n",
        "arr1=np.array([1,2,3,4,5])\n",
        "#single element access\n",
        "print(arr1[0])"
      ],
      "metadata": {
        "colab": {
          "base_uri": "https://localhost:8080/"
        },
        "id": "e9w8VOzbRKD2",
        "outputId": "112cf900-9dfe-439f-b9a3-a73675bd8e3d"
      },
      "execution_count": null,
      "outputs": [
        {
          "output_type": "stream",
          "name": "stdout",
          "text": [
            "1\n"
          ]
        }
      ]
    },
    {
      "cell_type": "code",
      "source": [
        "print(arr1[-1])\n",
        "print(arr1[2])"
      ],
      "metadata": {
        "colab": {
          "base_uri": "https://localhost:8080/"
        },
        "id": "OzaO6DMjR4Qo",
        "outputId": "94e4962c-32d1-4a67-9aa4-1711b12c7cb9"
      },
      "execution_count": null,
      "outputs": [
        {
          "output_type": "stream",
          "name": "stdout",
          "text": [
            "5\n",
            "3\n"
          ]
        }
      ]
    },
    {
      "cell_type": "code",
      "source": [
        "#create a 2D array\n",
        "arr2=np.array([[1,2,3],[3,4,5],[6,7,8]])\n",
        "print(arr2)"
      ],
      "metadata": {
        "colab": {
          "base_uri": "https://localhost:8080/"
        },
        "id": "28mf5X8xR6xY",
        "outputId": "aea1077d-8eb8-4404-8db4-fba4b0caf796"
      },
      "execution_count": null,
      "outputs": [
        {
          "output_type": "stream",
          "name": "stdout",
          "text": [
            "[[1 2 3]\n",
            " [3 4 5]\n",
            " [6 7 8]]\n"
          ]
        }
      ]
    },
    {
      "cell_type": "code",
      "source": [
        "print(arr2[1,0])\n",
        "print(arr2[0,0])"
      ],
      "metadata": {
        "colab": {
          "base_uri": "https://localhost:8080/"
        },
        "id": "feZOgLX8SrWQ",
        "outputId": "3fba5296-ae82-4885-d220-13bf12b00d5c"
      },
      "execution_count": null,
      "outputs": [
        {
          "output_type": "stream",
          "name": "stdout",
          "text": [
            "3\n",
            "1\n"
          ]
        }
      ]
    },
    {
      "cell_type": "code",
      "source": [
        "arr=np.array([[1,2,3],[4,5,6]])\n",
        "#elements from index 1 to 3\n",
        "print('Range of elements:',arr[1:2])"
      ],
      "metadata": {
        "colab": {
          "base_uri": "https://localhost:8080/"
        },
        "id": "POneu40dS34v",
        "outputId": "060d2b95-12d0-4e87-cfc2-791183dc2f36"
      },
      "execution_count": null,
      "outputs": [
        {
          "output_type": "stream",
          "name": "stdout",
          "text": [
            "Range of elements: [[4 5 6]]\n"
          ]
        }
      ]
    },
    {
      "cell_type": "code",
      "source": [
        "arr = np.array([[10,20,30],\n",
        "                [40,50,60],\n",
        "                [70,80,90],\n",
        "                [100,110,120]])\n",
        "print(arr[1:4])"
      ],
      "metadata": {
        "colab": {
          "base_uri": "https://localhost:8080/"
        },
        "id": "v_ZZ_G8JUtKh",
        "outputId": "19bc75a3-714c-43ea-a4c4-7d574052fa26"
      },
      "execution_count": null,
      "outputs": [
        {
          "output_type": "stream",
          "name": "stdout",
          "text": [
            "[[ 40  50  60]\n",
            " [ 70  80  90]\n",
            " [100 110 120]]\n"
          ]
        }
      ]
    },
    {
      "cell_type": "code",
      "source": [
        "#all rows , second column\n",
        "arr[:,1]"
      ],
      "metadata": {
        "colab": {
          "base_uri": "https://localhost:8080/"
        },
        "id": "Ygt9z3f3Vghf",
        "outputId": "1f6ae087-f483-4749-d3af-1952b59e789a"
      },
      "execution_count": null,
      "outputs": [
        {
          "output_type": "execute_result",
          "data": {
            "text/plain": [
              "array([ 20,  50,  80, 110])"
            ]
          },
          "metadata": {},
          "execution_count": 26
        }
      ]
    },
    {
      "cell_type": "code",
      "source": [
        "arr[1,:]"
      ],
      "metadata": {
        "colab": {
          "base_uri": "https://localhost:8080/"
        },
        "id": "HtjFAaWLWJVZ",
        "outputId": "800aa122-3cc5-4fc8-920f-5b0093f7e9e9"
      },
      "execution_count": null,
      "outputs": [
        {
          "output_type": "execute_result",
          "data": {
            "text/plain": [
              "array([40, 50, 60])"
            ]
          },
          "metadata": {},
          "execution_count": 27
        }
      ]
    },
    {
      "cell_type": "markdown",
      "source": [
        "**NumPy Basic Operations**"
      ],
      "metadata": {
        "id": "jRfvb6lWWoF3"
      }
    },
    {
      "cell_type": "code",
      "source": [
        "x=np.array([1,2,3])\n",
        "y=np.array([4,5,6])\n",
        "\n",
        "#addition\n",
        "add=x+y\n",
        "print('addition',add)\n",
        "\n",
        "#substraction\n",
        "sub=x-y\n",
        "print('substraction',sub)\n",
        "\n",
        "#multiplication\n",
        "multi=x*y\n",
        "print('multiplication',multi)\n",
        "\n",
        "#division\n",
        "div=x/y\n",
        "print('Division',div)\n"
      ],
      "metadata": {
        "colab": {
          "base_uri": "https://localhost:8080/"
        },
        "id": "svQYDYQ9WbuI",
        "outputId": "6a180ffb-4db1-484d-ca5a-9d13d75a6eca"
      },
      "execution_count": null,
      "outputs": [
        {
          "output_type": "stream",
          "name": "stdout",
          "text": [
            "addition [5 7 9]\n",
            "substraction [-3 -3 -3]\n",
            "multiplication [ 4 10 18]\n",
            "Division [0.25 0.4  0.5 ]\n"
          ]
        }
      ]
    },
    {
      "cell_type": "code",
      "source": [
        "res=np.add(x,y)\n",
        "print(res)\n"
      ],
      "metadata": {
        "colab": {
          "base_uri": "https://localhost:8080/"
        },
        "id": "KZNCvoO8X_IR",
        "outputId": "041067a9-a947-439c-809d-ca9d49dd0fa5"
      },
      "execution_count": null,
      "outputs": [
        {
          "output_type": "stream",
          "name": "stdout",
          "text": [
            "[5 7 9]\n"
          ]
        }
      ]
    },
    {
      "cell_type": "code",
      "source": [
        "res=np.subtract(x,y)\n",
        "print(res)"
      ],
      "metadata": {
        "colab": {
          "base_uri": "https://localhost:8080/"
        },
        "id": "aXAEjM_yY87x",
        "outputId": "2ecafa00-3228-41e6-911b-32ce739e2797"
      },
      "execution_count": null,
      "outputs": [
        {
          "output_type": "stream",
          "name": "stdout",
          "text": [
            "[-3 -3 -3]\n"
          ]
        }
      ]
    },
    {
      "cell_type": "code",
      "source": [
        "res=np.multiply(x,y)\n",
        "print(res)"
      ],
      "metadata": {
        "colab": {
          "base_uri": "https://localhost:8080/"
        },
        "id": "GYMoVopiZBdY",
        "outputId": "a001cd59-2597-427a-e3b3-87f34f10e4f4"
      },
      "execution_count": null,
      "outputs": [
        {
          "output_type": "stream",
          "name": "stdout",
          "text": [
            "[ 4 10 18]\n"
          ]
        }
      ]
    },
    {
      "cell_type": "code",
      "source": [
        "res=np.divide(x,y)\n",
        "print(res)"
      ],
      "metadata": {
        "id": "ZNFQbPb3ZExA",
        "outputId": "3f5ceab2-1c87-47b5-bd5a-78f3603e1a5b",
        "colab": {
          "base_uri": "https://localhost:8080/"
        }
      },
      "execution_count": null,
      "outputs": [
        {
          "output_type": "stream",
          "name": "stdout",
          "text": [
            "[0.25 0.4  0.5 ]\n"
          ]
        }
      ]
    },
    {
      "cell_type": "code",
      "source": [],
      "metadata": {
        "id": "9z6ssz8RZIEA"
      },
      "execution_count": null,
      "outputs": []
    }
  ]
}